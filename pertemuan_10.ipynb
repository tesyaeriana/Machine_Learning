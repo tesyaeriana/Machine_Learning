{
  "cells": [
    {
      "cell_type": "markdown",
      "metadata": {
        "id": "view-in-github",
        "colab_type": "text"
      },
      "source": [
        "<a href=\"https://colab.research.google.com/github/tesyaeriana/Machine_Learning/blob/main/pertemuan_10.ipynb\" target=\"_parent\"><img src=\"https://colab.research.google.com/assets/colab-badge.svg\" alt=\"Open In Colab\"/></a>"
      ]
    },
    {
      "cell_type": "markdown",
      "metadata": {
        "id": "-2IDCaiS8Si7"
      },
      "source": [
        "**NAMA: TESYA ERIANA**<br>\n",
        "**No ABSEN: 28**<br>\n",
        "**KELAS: TI-3A**<br>\n",
        "**PERTEMUAN 10: RECURRENT NEURAL NETWORK**\n"
      ]
    },
    {
      "cell_type": "markdown",
      "metadata": {
        "id": "4-di1zQ48pbb"
      },
      "source": [
        "**PRAKTIKUM 1: RNN UNTUK ANALISIS SENTIMEN**\n",
        "\n",
        "\n",
        "> **Setup**\n",
        "\n"
      ]
    },
    {
      "cell_type": "code",
      "execution_count": null,
      "metadata": {
        "id": "fv1E_nC184ir"
      },
      "outputs": [],
      "source": [
        "import numpy as np\n",
        "import tensorflow_datasets as tfds\n",
        "import tensorflow as tf\n",
        "tfds.disable_progress_bar()"
      ]
    },
    {
      "cell_type": "code",
      "execution_count": null,
      "metadata": {
        "id": "Hh1WuXV77lNz"
      },
      "outputs": [],
      "source": [
        "import matplotlib.pyplot as plt\n",
        "\n",
        "def plot_graphs(history, metric):\n",
        "  plt.plot(history.history[metric])\n",
        "  plt.plot(history.history['val_'+metric], '')\n",
        "  plt.xlabel(\"Epochs\")\n",
        "  plt.ylabel(metric)\n",
        "  plt.legend([metric, 'val_'+metric])"
      ]
    },
    {
      "cell_type": "markdown",
      "metadata": {
        "id": "MggQIdQE-AJ-"
      },
      "source": [
        "\n",
        "\n",
        "> **Setup input pipeline**<br>Dataset ulasan film IMDB adalah kumpulan data klasifikasi biner—semua ulasan memiliki sentimen positif atau negatif.Download dataset menggunakan TFDS.\n",
        "\n",
        "\n"
      ]
    },
    {
      "cell_type": "code",
      "execution_count": null,
      "metadata": {
        "colab": {
          "base_uri": "https://localhost:8080/"
        },
        "id": "6fvqlsfm-Wvw",
        "outputId": "1d32b1b8-33d6-42e3-b319-be4c8b059e99"
      },
      "outputs": [
        {
          "output_type": "execute_result",
          "data": {
            "text/plain": [
              "(TensorSpec(shape=(), dtype=tf.string, name=None),\n",
              " TensorSpec(shape=(), dtype=tf.int64, name=None))"
            ]
          },
          "metadata": {},
          "execution_count": 39
        }
      ],
      "source": [
        "dataset, info = tfds.load('imdb_reviews', with_info=True, as_supervised=True)\n",
        "train_dataset, test_dataset = dataset['train'], dataset['test']\n",
        "train_dataset.element_spec\n"
      ]
    },
    {
      "cell_type": "markdown",
      "metadata": {
        "id": "-6C0iEml-4HE"
      },
      "source": [
        "\n",
        "\n",
        "> Mengembalikan dataset(teks, pasangan label)\n",
        "\n"
      ]
    },
    {
      "cell_type": "code",
      "execution_count": null,
      "metadata": {
        "colab": {
          "base_uri": "https://localhost:8080/"
        },
        "id": "ZjsNDrcr-_b_",
        "outputId": "2ba2db4f-bb18-46c4-ea3a-b60154c5dd21"
      },
      "outputs": [
        {
          "output_type": "stream",
          "name": "stdout",
          "text": [
            "text:  b\"This was an absolutely terrible movie. Don't be lured in by Christopher Walken or Michael Ironside. Both are great actors, but this must simply be their worst role in history. Even their great acting could not redeem this movie's ridiculous storyline. This movie is an early nineties US propaganda piece. The most pathetic scenes were those when the Columbian rebels were making their cases for revolutions. Maria Conchita Alonso appeared phony, and her pseudo-love affair with Walken was nothing but a pathetic emotional plug in a movie that was devoid of any real meaning. I am disappointed that there are movies like this, ruining actor's like Christopher Walken's good name. I could barely sit through it.\"\n",
            "label:  0\n"
          ]
        }
      ],
      "source": [
        "for example, label in train_dataset.take(1):\n",
        "  print('text: ', example.numpy())\n",
        "  print('label: ', label.numpy())"
      ]
    },
    {
      "cell_type": "markdown",
      "metadata": {
        "id": "XiCyeHM6_S0m"
      },
      "source": [
        "\n",
        "\n",
        "> Mengacak data untuk pelatihan dan membuat kumpulan pasangan (teks, label)\n",
        "\n"
      ]
    },
    {
      "cell_type": "code",
      "execution_count": null,
      "metadata": {
        "colab": {
          "base_uri": "https://localhost:8080/"
        },
        "id": "e33HiUgO_b6O",
        "outputId": "1cd72ba7-a0e6-4623-a927-bc4f475166d2"
      },
      "outputs": [
        {
          "output_type": "stream",
          "name": "stdout",
          "text": [
            "texts:  [b'i didn\\'t even bother finishing the movie because i was so bored i thought i was going to pass out i was watching it in the movie theaters and me and my friends just got tired so we got up and left to another movie if i ever have to sit through 2 min. of that movie again i think I\\'m going to shoot myself...and i do know the whole entire movie because my friend told me what happened at the end and i wasn\\'t surprised at all i mean who didn\\'t know she was going to do the right thing and let him be happy i mean for real you would have to be a complete idiot not to know that. i know i didn\\'t miss anything and if somebody ask\\'s me to see that movie i would say \"over my dead body\".'\n",
            " b'I hate this programme: not only is the very concept ludicrous, but it tries so hard to be feasible (something that was left out of similar \"I confess\" ending programmes like, Muder: She Wrote).<br /><br />Sigh. Why is it that the writers can\\'t ever be intelligent enough in this programme to come up with evidence that would stick and win a decision in court?<br /><br />Come on: after X-amount of years of the cases being unsolved, why must EVERY SUSPECT, EVERY EPISODE *CONFESS* (damn it!) to a murder which would otherwise go unsolved?<br /><br />I bet all police wish that criminals were this good sportsmen: \"Aw, shucks, officer, you\\'re a bright one - I guess if you\\'ve uncovered enough to convince yourself I did it, I may as well admit to it and make it easier for you in court. What can I say? It\\'s a fair cop.\"<br /><br />Absolute dog s**t and an insult to those of us with with enough brains to even have heard of I.Q.'\n",
            " b\"I scooped up this title by accident with the Grindhouse Vol. 1 collection of pure Euro-trash movies. But this movie has a nice stamp of approval and should deserve a better transfer than what is out there. Stupednous it is not... satisfying it is! Watching this movie I couldn't help to wonder... how come Sergio Martino didn't make this flick? This has his signature all over it and punctuated by Edwedge Fenech (alas not as well known as she should be but she did get a nice cameo in Hostel II). Double-crosses and triple-crosses underly and cement this film from beginning to end with Lee Van Cleef oozing coolness under pressure from the 1st second. Did this guy have to go to Italy to finally reach his potential or did the studio system let this guy slip through? Besides Lee's more recognizable films, film-goers should try this on for size and see how if Sergio Leone would've lowered his epic scale down on Once Upon a Time in America to half the running time (and 1/4 of the budget) this is what it would've turned out to be like. So refreshing, it should be taken in during the day at home and make it for an couch matin\\xc3\\xa9e\"]\n",
            "\n",
            "labels:  [0 0 1]\n"
          ]
        }
      ],
      "source": [
        "BUFFER_SIZE = 10000\n",
        "BATCH_SIZE = 64\n",
        "\n",
        "train_dataset = train_dataset.shuffle(BUFFER_SIZE).batch(BATCH_SIZE).prefetch(tf.data.AUTOTUNE)\n",
        "test_dataset = test_dataset.batch(BATCH_SIZE).prefetch(tf.data.AUTOTUNE)\n",
        "\n",
        "for example, label in train_dataset.take(1):\n",
        "  print('texts: ', example.numpy()[:3])\n",
        "  print()\n",
        "  print('labels: ', label.numpy()[:3])\n"
      ]
    },
    {
      "cell_type": "markdown",
      "metadata": {
        "id": "irp9TOXJ_jS5"
      },
      "source": [
        "\n",
        "\n",
        "> **Buat Teks Encoder**\n",
        "\n"
      ]
    },
    {
      "cell_type": "code",
      "execution_count": null,
      "metadata": {
        "id": "PZDeOXBw_qGH"
      },
      "outputs": [],
      "source": [
        "#membuat lapisan dan teruskan teks kumpulan data ke metode adapt lapisan.\n",
        "VOCAB_SIZE = 1000\n",
        "encoder = tf.keras.layers.TextVectorization(\n",
        "    max_tokens=VOCAB_SIZE)\n",
        "encoder.adapt(train_dataset.map(lambda text, label: text))\n"
      ]
    },
    {
      "cell_type": "code",
      "execution_count": null,
      "metadata": {
        "colab": {
          "base_uri": "https://localhost:8080/"
        },
        "id": "nODbWMIRAY8L",
        "outputId": "544caa17-c25a-48fd-da60-756185162aec"
      },
      "outputs": [
        {
          "output_type": "execute_result",
          "data": {
            "text/plain": [
              "array(['', '[UNK]', 'the', 'and', 'a', 'of', 'to', 'is', 'in', 'it', 'i',\n",
              "       'this', 'that', 'br', 'was', 'as', 'for', 'with', 'movie', 'but'],\n",
              "      dtype='<U14')"
            ]
          },
          "metadata": {},
          "execution_count": 43
        }
      ],
      "source": [
        "# melihat 20 token pertama\n",
        "vocab = np.array(encoder.get_vocabulary())\n",
        "vocab[:20]\n"
      ]
    },
    {
      "cell_type": "code",
      "execution_count": null,
      "metadata": {
        "colab": {
          "base_uri": "https://localhost:8080/"
        },
        "id": "UtvN8eMPA686",
        "outputId": "77e981e3-1b02-4abf-c92b-bfa2105f9303"
      },
      "outputs": [
        {
          "output_type": "execute_result",
          "data": {
            "text/plain": [
              "array([[ 10, 153,  54, ...,   0,   0,   0],\n",
              "       [ 10, 782,  11, ...,   0,   0,   0],\n",
              "       [ 10,   1,  58, ...,   0,   0,   0]])"
            ]
          },
          "metadata": {},
          "execution_count": 44
        }
      ],
      "source": [
        "encoded_example = encoder(example)[:3].numpy()\n",
        "encoded_example"
      ]
    },
    {
      "cell_type": "code",
      "execution_count": null,
      "metadata": {
        "colab": {
          "base_uri": "https://localhost:8080/"
        },
        "id": "lkWTRrwTBLL1",
        "outputId": "3ad8744c-774e-4f09-a8e0-3995a3ed1c07"
      },
      "outputs": [
        {
          "output_type": "stream",
          "name": "stdout",
          "text": [
            "Original:  b'i didn\\'t even bother finishing the movie because i was so bored i thought i was going to pass out i was watching it in the movie theaters and me and my friends just got tired so we got up and left to another movie if i ever have to sit through 2 min. of that movie again i think I\\'m going to shoot myself...and i do know the whole entire movie because my friend told me what happened at the end and i wasn\\'t surprised at all i mean who didn\\'t know she was going to do the right thing and let him be happy i mean for real you would have to be a complete idiot not to know that. i know i didn\\'t miss anything and if somebody ask\\'s me to see that movie i would say \"over my dead body\".'\n",
            "Round-trip:  i didnt even [UNK] [UNK] the movie because i was so [UNK] i thought i was going to [UNK] out i was watching it in the movie [UNK] and me and my friends just got [UNK] so we got up and left to another movie if i ever have to sit through 2 [UNK] of that movie again i think im going to [UNK] [UNK] i do know the whole entire movie because my friend told me what happened at the end and i wasnt surprised at all i mean who didnt know she was going to do the right thing and let him be happy i mean for real you would have to be a complete [UNK] not to know that i know i didnt miss anything and if [UNK] [UNK] me to see that movie i would say over my dead body                                                                                                                                                                                                                                                                                                                                                                                                                                                                                                                                                                                                                                                                                                                                                                                                                                                                            \n",
            "\n",
            "Original:  b'I hate this programme: not only is the very concept ludicrous, but it tries so hard to be feasible (something that was left out of similar \"I confess\" ending programmes like, Muder: She Wrote).<br /><br />Sigh. Why is it that the writers can\\'t ever be intelligent enough in this programme to come up with evidence that would stick and win a decision in court?<br /><br />Come on: after X-amount of years of the cases being unsolved, why must EVERY SUSPECT, EVERY EPISODE *CONFESS* (damn it!) to a murder which would otherwise go unsolved?<br /><br />I bet all police wish that criminals were this good sportsmen: \"Aw, shucks, officer, you\\'re a bright one - I guess if you\\'ve uncovered enough to convince yourself I did it, I may as well admit to it and make it easier for you in court. What can I say? It\\'s a fair cop.\"<br /><br />Absolute dog s**t and an insult to those of us with with enough brains to even have heard of I.Q.'\n",
            "Round-trip:  i hate this [UNK] not only is the very [UNK] [UNK] but it tries so hard to be [UNK] something that was left out of similar i [UNK] ending [UNK] like [UNK] she [UNK] br [UNK] why is it that the writers cant ever be [UNK] enough in this [UNK] to come up with [UNK] that would [UNK] and [UNK] a [UNK] in [UNK] br come on after [UNK] of years of the [UNK] being [UNK] why must every [UNK] every episode [UNK] [UNK] it to a murder which would otherwise go [UNK] br i [UNK] all police wish that [UNK] were this good [UNK] [UNK] [UNK] [UNK] youre a [UNK] one i guess if youve [UNK] enough to [UNK] yourself i did it i may as well admit to it and make it [UNK] for you in [UNK] what can i say its a [UNK] [UNK] br [UNK] dog [UNK] and an [UNK] to those of us with with enough [UNK] to even have heard of [UNK]                                                                                                                                                                                                                                                                                                                                                                                                                                                                                                                                                                                                                                                                                                                                                                                                                                                    \n",
            "\n",
            "Original:  b\"I scooped up this title by accident with the Grindhouse Vol. 1 collection of pure Euro-trash movies. But this movie has a nice stamp of approval and should deserve a better transfer than what is out there. Stupednous it is not... satisfying it is! Watching this movie I couldn't help to wonder... how come Sergio Martino didn't make this flick? This has his signature all over it and punctuated by Edwedge Fenech (alas not as well known as she should be but she did get a nice cameo in Hostel II). Double-crosses and triple-crosses underly and cement this film from beginning to end with Lee Van Cleef oozing coolness under pressure from the 1st second. Did this guy have to go to Italy to finally reach his potential or did the studio system let this guy slip through? Besides Lee's more recognizable films, film-goers should try this on for size and see how if Sergio Leone would've lowered his epic scale down on Once Upon a Time in America to half the running time (and 1/4 of the budget) this is what it would've turned out to be like. So refreshing, it should be taken in during the day at home and make it for an couch matin\\xc3\\xa9e\"\n",
            "Round-trip:  i [UNK] up this title by [UNK] with the [UNK] [UNK] 1 [UNK] of [UNK] [UNK] movies but this movie has a nice [UNK] of [UNK] and should [UNK] a better [UNK] than what is out there [UNK] it is not [UNK] it is watching this movie i couldnt help to wonder how come [UNK] [UNK] didnt make this flick this has his [UNK] all over it and [UNK] by [UNK] [UNK] [UNK] not as well known as she should be but she did get a nice [UNK] in [UNK] [UNK] [UNK] and [UNK] [UNK] and [UNK] this film from beginning to end with lee [UNK] [UNK] [UNK] [UNK] under [UNK] from the [UNK] second did this guy have to go to [UNK] to finally [UNK] his potential or did the [UNK] [UNK] let this guy [UNK] through [UNK] [UNK] more [UNK] films [UNK] should try this on for [UNK] and see how if [UNK] [UNK] [UNK] [UNK] his [UNK] [UNK] down on once upon a time in america to half the running time and [UNK] of the budget this is what it [UNK] turned out to be like so [UNK] it should be taken in during the day at home and make it for an [UNK] [UNK]                                                                                                                                                                                                                                                                                                                                                                                                                                                                                                                                                                                                                                                                                                                                                                                                            \n",
            "\n"
          ]
        }
      ],
      "source": [
        "for n in range(3):\n",
        "  print(\"Original: \", example[n].numpy())\n",
        "  print(\"Round-trip: \", \" \".join(vocab[encoded_example[n]]))\n",
        "  print()"
      ]
    },
    {
      "cell_type": "markdown",
      "metadata": {
        "id": "olrivuXfBP-v"
      },
      "source": [
        "\n",
        "\n",
        "> **Membuat Model**\n",
        "\n"
      ]
    },
    {
      "cell_type": "code",
      "execution_count": null,
      "metadata": {
        "id": "ASDy5NcsBU0k"
      },
      "outputs": [],
      "source": [
        "model = tf.keras.Sequential([\n",
        "    encoder,\n",
        "    tf.keras.layers.Embedding(\n",
        "        input_dim=len(encoder.get_vocabulary()),\n",
        "        output_dim=64,\n",
        "        # Use masking to handle the variable sequence lengths\n",
        "        mask_zero=True),\n",
        "    tf.keras.layers.Bidirectional(tf.keras.layers.LSTM(64)),\n",
        "    tf.keras.layers.Dense(64, activation='relu'),\n",
        "    tf.keras.layers.Dense(1)\n",
        "])"
      ]
    },
    {
      "cell_type": "code",
      "execution_count": null,
      "metadata": {
        "colab": {
          "base_uri": "https://localhost:8080/"
        },
        "id": "-36Z2pCtCFpY",
        "outputId": "af3c8d71-64c1-4da4-bba5-3cf7a2203953"
      },
      "outputs": [
        {
          "output_type": "stream",
          "name": "stdout",
          "text": [
            "[False, True, True, True, True]\n"
          ]
        }
      ],
      "source": [
        "print([layer.supports_masking for layer in model.layers])"
      ]
    },
    {
      "cell_type": "code",
      "execution_count": null,
      "metadata": {
        "colab": {
          "base_uri": "https://localhost:8080/"
        },
        "id": "J_T5dKtADxJT",
        "outputId": "a81223e1-eea1-4fbe-faa1-022298dc64c9"
      },
      "outputs": [
        {
          "output_type": "stream",
          "name": "stdout",
          "text": [
            "1/1 [==============================] - 2s 2s/step\n",
            "[0.00863889]\n"
          ]
        }
      ],
      "source": [
        "# predict on a sample text without padding.\n",
        "\n",
        "sample_text = ('The movie was cool. The animation and the graphics '\n",
        "               'were out of this world. I would recommend this movie.')\n",
        "predictions = model.predict(np.array([sample_text]))\n",
        "print(predictions[0])"
      ]
    },
    {
      "cell_type": "code",
      "execution_count": null,
      "metadata": {
        "colab": {
          "base_uri": "https://localhost:8080/"
        },
        "id": "uIaBX_LsD4-4",
        "outputId": "3efed9e1-aefa-4b63-8ab6-cf973290b004"
      },
      "outputs": [
        {
          "output_type": "stream",
          "name": "stdout",
          "text": [
            "1/1 [==============================] - 0s 61ms/step\n",
            "[0.00863889]\n"
          ]
        }
      ],
      "source": [
        "# predict on a sample text with padding\n",
        "\n",
        "padding = \"the \" * 2000\n",
        "predictions = model.predict(np.array([sample_text, padding]))\n",
        "print(predictions[0])"
      ]
    },
    {
      "cell_type": "code",
      "execution_count": null,
      "metadata": {
        "id": "YvrEwDuBEA3_"
      },
      "outputs": [],
      "source": [
        "model.compile(loss=tf.keras.losses.BinaryCrossentropy(from_logits=True),optimizer=tf.keras.optimizers.Adam(1e-4), metrics=['accuracy'])"
      ]
    },
    {
      "cell_type": "markdown",
      "metadata": {
        "id": "VDpnV9FnEKWG"
      },
      "source": [
        "\n",
        "\n",
        "> **Train Model**\n",
        "\n",
        "\n",
        "\n"
      ]
    },
    {
      "cell_type": "code",
      "execution_count": null,
      "metadata": {
        "colab": {
          "base_uri": "https://localhost:8080/"
        },
        "id": "QmNlDYEkER7s",
        "outputId": "4ccbe5cb-9e0c-46ae-be5e-7ca209c9df7b"
      },
      "outputs": [
        {
          "output_type": "stream",
          "name": "stdout",
          "text": [
            "Epoch 1/10\n",
            "391/391 [==============================] - 46s 93ms/step - loss: 0.6566 - accuracy: 0.5495 - val_loss: 0.5017 - val_accuracy: 0.7255\n",
            "Epoch 2/10\n",
            "391/391 [==============================] - 27s 68ms/step - loss: 0.3958 - accuracy: 0.8188 - val_loss: 0.3689 - val_accuracy: 0.8172\n",
            "Epoch 3/10\n",
            "391/391 [==============================] - 27s 69ms/step - loss: 0.3346 - accuracy: 0.8525 - val_loss: 0.3507 - val_accuracy: 0.8260\n",
            "Epoch 4/10\n",
            "391/391 [==============================] - 27s 68ms/step - loss: 0.3161 - accuracy: 0.8623 - val_loss: 0.3301 - val_accuracy: 0.8516\n",
            "Epoch 5/10\n",
            "391/391 [==============================] - 27s 69ms/step - loss: 0.3091 - accuracy: 0.8657 - val_loss: 0.3350 - val_accuracy: 0.8328\n",
            "Epoch 6/10\n",
            "391/391 [==============================] - 27s 70ms/step - loss: 0.3050 - accuracy: 0.8674 - val_loss: 0.3197 - val_accuracy: 0.8568\n",
            "Epoch 7/10\n",
            "391/391 [==============================] - 27s 68ms/step - loss: 0.3047 - accuracy: 0.8669 - val_loss: 0.3212 - val_accuracy: 0.8573\n",
            "Epoch 8/10\n",
            "391/391 [==============================] - 27s 69ms/step - loss: 0.2976 - accuracy: 0.8725 - val_loss: 0.3390 - val_accuracy: 0.8526\n",
            "Epoch 9/10\n",
            "391/391 [==============================] - 26s 66ms/step - loss: 0.2963 - accuracy: 0.8713 - val_loss: 0.3196 - val_accuracy: 0.8474\n",
            "Epoch 10/10\n",
            "391/391 [==============================] - 26s 65ms/step - loss: 0.2940 - accuracy: 0.8726 - val_loss: 0.3181 - val_accuracy: 0.8521\n"
          ]
        }
      ],
      "source": [
        "history = model.fit(train_dataset, epochs=10,validation_data=test_dataset,validation_steps=30)"
      ]
    },
    {
      "cell_type": "code",
      "execution_count": null,
      "metadata": {
        "colab": {
          "base_uri": "https://localhost:8080/"
        },
        "id": "X0rk4GtLR8_c",
        "outputId": "9ab89e2f-e9c9-427b-8782-3b85a973f0c8"
      },
      "outputs": [
        {
          "output_type": "stream",
          "name": "stdout",
          "text": [
            "391/391 [==============================] - 12s 32ms/step - loss: 0.3155 - accuracy: 0.8531\n",
            "Test Loss: 0.31552186608314514\n",
            "Test Accuracy: 0.8531200289726257\n"
          ]
        }
      ],
      "source": [
        "test_loss, test_acc = model.evaluate(test_dataset)\n",
        "\n",
        "print('Test Loss:', test_loss)\n",
        "print('Test Accuracy:', test_acc)"
      ]
    },
    {
      "cell_type": "code",
      "execution_count": null,
      "metadata": {
        "colab": {
          "base_uri": "https://localhost:8080/",
          "height": 571
        },
        "id": "HzEL9BF3R-rw",
        "outputId": "c5837647-826d-4c97-caa9-8b9c76324bda"
      },
      "outputs": [
        {
          "output_type": "execute_result",
          "data": {
            "text/plain": [
              "(0.0, 0.6746888846158982)"
            ]
          },
          "metadata": {},
          "execution_count": 53
        },
        {
          "output_type": "display_data",
          "data": {
            "text/plain": [
              "<Figure size 1600x800 with 2 Axes>"
            ],
            "image/png": "[encoded data removed]"
          },
          "metadata": {}
        }
      ],
      "source": [
        "plt.figure(figsize=(16, 8))\n",
        "plt.subplot(1, 2, 1)\n",
        "plot_graphs(history, 'accuracy')\n",
        "plt.ylim(None, 1)\n",
        "plt.subplot(1, 2, 2)\n",
        "plot_graphs(history, 'loss')\n",
        "plt.ylim(0, None)"
      ]
    },
    {
      "cell_type": "code",
      "execution_count": null,
      "metadata": {
        "colab": {
          "base_uri": "https://localhost:8080/"
        },
        "id": "D0IQUqpld6VC",
        "outputId": "adce2826-9e69-4a00-e142-b4ae55faf70a"
      },
      "outputs": [
        {
          "output_type": "stream",
          "name": "stderr",
          "text": [
            "WARNING:tensorflow:5 out of the last 7 calls to <function Model.make_predict_function.<locals>.predict_function at 0x7911b3c01d80> triggered tf.function retracing. Tracing is expensive and the excessive number of tracings could be due to (1) creating @tf.function repeatedly in a loop, (2) passing tensors with different shapes, (3) passing Python objects instead of tensors. For (1), please define your @tf.function outside of the loop. For (2), @tf.function has reduce_retracing=True option that can avoid unnecessary retracing. For (3), please refer to https://www.tensorflow.org/guide/function#controlling_retracing and https://www.tensorflow.org/api_docs/python/tf/function for  more details.\n"
          ]
        },
        {
          "output_type": "stream",
          "name": "stdout",
          "text": [
            "1/1 [==============================] - 2s 2s/step\n",
            "[[1.0481746]]\n"
          ]
        }
      ],
      "source": [
        "sample_text = ('The Movie was cool. The animation and the graphics' 'were out of thid world. I would recommend this movie.')\n",
        "predictions = model.predict(np.array([sample_text]))\n",
        "print(predictions)"
      ]
    },
    {
      "cell_type": "markdown",
      "metadata": {
        "id": "0aysn1tqfiM4"
      },
      "source": [
        "\n",
        "\n",
        "> **Stack two or more LSTM layers**\n",
        "\n"
      ]
    },
    {
      "cell_type": "code",
      "execution_count": null,
      "metadata": {
        "id": "z7tyLavNf7BJ"
      },
      "outputs": [],
      "source": [
        "model = tf.keras.Sequential([encoder,tf.keras.layers.Embedding(len(encoder.get_vocabulary()), 64, mask_zero=True),tf.keras.layers.Bidirectional(tf.keras.layers.LSTM(64, return_sequences=True)),tf.keras.layers.Bidirectional(tf.keras.layers.LSTM(32)), tf.keras.layers.Dense(64, activation='relu'),tf.keras.layers.Dropout(0.5),tf.keras.layers.Dense(1)])"
      ]
    },
    {
      "cell_type": "code",
      "execution_count": null,
      "metadata": {
        "id": "9HLbYhOdgwtL"
      },
      "outputs": [],
      "source": [
        "model.compile(loss=tf.keras.losses.BinaryCrossentropy(from_logits=True), optimizer=tf.keras.optimizers.Adam(1e-4), metrics=['accuracy'])"
      ]
    },
    {
      "cell_type": "code",
      "execution_count": null,
      "metadata": {
        "colab": {
          "base_uri": "https://localhost:8080/"
        },
        "id": "1BcyzrfNg697",
        "outputId": "b5197f30-5c8b-4c90-9233-fb7fc48ce5eb"
      },
      "outputs": [
        {
          "output_type": "stream",
          "name": "stdout",
          "text": [
            "391/391 [==============================] - 30s 55ms/step - loss: 0.6931 - accuracy: 0.5000\n",
            "Test Loss: 0.6931041479110718\n",
            "Test Accuracy: 0.5\n"
          ]
        }
      ],
      "source": [
        "test_loss, test_acc = model.evaluate(test_dataset)\n",
        "\n",
        "print('Test Loss:', test_loss)\n",
        "print('Test Accuracy:', test_acc)"
      ]
    },
    {
      "cell_type": "code",
      "execution_count": null,
      "metadata": {
        "colab": {
          "base_uri": "https://localhost:8080/"
        },
        "id": "ZbdyuCeZg-Xm",
        "outputId": "010bba45-bdf8-481b-92cd-96c5c2351097"
      },
      "outputs": [
        {
          "output_type": "stream",
          "name": "stderr",
          "text": [
            "WARNING:tensorflow:6 out of the last 8 calls to <function Model.make_predict_function.<locals>.predict_function at 0x7911b1401c60> triggered tf.function retracing. Tracing is expensive and the excessive number of tracings could be due to (1) creating @tf.function repeatedly in a loop, (2) passing tensors with different shapes, (3) passing Python objects instead of tensors. For (1), please define your @tf.function outside of the loop. For (2), @tf.function has reduce_retracing=True option that can avoid unnecessary retracing. For (3), please refer to https://www.tensorflow.org/guide/function#controlling_retracing and https://www.tensorflow.org/api_docs/python/tf/function for  more details.\n"
          ]
        },
        {
          "output_type": "stream",
          "name": "stdout",
          "text": [
            "1/1 [==============================] - 5s 5s/step\n",
            "[[0.00094352]]\n"
          ]
        }
      ],
      "source": [
        "# predict on a sample text without padding.\n",
        "sample_text = ('The movie was not good. The animation and the graphics' 'were terrible. I would not recommend this movie.')\n",
        "predictions = model.predict(np.array([sample_text]))\n",
        "print(predictions)"
      ]
    },
    {
      "cell_type": "code",
      "execution_count": null,
      "metadata": {
        "colab": {
          "base_uri": "https://localhost:8080/",
          "height": 426
        },
        "id": "PC46JwHghEKn",
        "outputId": "7dd253b7-f3ea-493a-9d7e-464849714504"
      },
      "outputs": [
        {
          "output_type": "display_data",
          "data": {
            "text/plain": [
              "<Figure size 1600x600 with 2 Axes>"
            ],
            "image/png": "[encoded data removed]"
          },
          "metadata": {}
        }
      ],
      "source": [
        "plt.figure(figsize=(16, 6))\n",
        "plt.subplot(1, 2, 1)\n",
        "plot_graphs(history, 'accuracy')\n",
        "plt.subplot(1, 2, 2)\n",
        "plot_graphs(history, 'loss')"
      ]
    },
    {
      "cell_type": "markdown",
      "metadata": {
        "id": "4kjYK7oYllMV"
      },
      "source": [
        "**PRAKTIKUM 2:GENERATOR TEKS DENGAN RNN**"
      ]
    },
    {
      "cell_type": "code",
      "execution_count": null,
      "metadata": {
        "id": "R9SaPYrtmk9I"
      },
      "outputs": [],
      "source": [
        "import tensorflow as tf\n",
        "import numpy as np\n",
        "import os\n",
        "import time"
      ]
    },
    {
      "cell_type": "code",
      "execution_count": null,
      "metadata": {
        "id": "LJ8P5glvm9oM"
      },
      "outputs": [],
      "source": [
        "path_to_file = tf.keras.utils.get_file('shakespeare.txt','https://storage.googleapis.com/download.tensorflow.org/data/shakespeare.txt')\n"
      ]
    },
    {
      "cell_type": "code",
      "execution_count": null,
      "metadata": {
        "colab": {
          "base_uri": "https://localhost:8080/"
        },
        "id": "CX6wjD7dm-bz",
        "outputId": "5bb17129-d82a-44a2-f563-fc327e3647eb"
      },
      "outputs": [
        {
          "output_type": "stream",
          "name": "stdout",
          "text": [
            "Length of text: 1115394 characters\n"
          ]
        }
      ],
      "source": [
        "# Read, then decode for py2 compat.\n",
        "text = open(path_to_file, 'rb').read().decode(encoding='utf-8')\n",
        "# length of text is the number of characters in it\n",
        "print(f'Length of text: {len(text)} characters')"
      ]
    },
    {
      "cell_type": "code",
      "execution_count": null,
      "metadata": {
        "colab": {
          "base_uri": "https://localhost:8080/"
        },
        "id": "_AjTxkzCnky5",
        "outputId": "6729e4d9-371b-4e30-9296-ab0b0c93babd"
      },
      "outputs": [
        {
          "output_type": "stream",
          "name": "stdout",
          "text": [
            "First Citizen:\n",
            "Before we proceed any further, hear me speak.\n",
            "\n",
            "All:\n",
            "Speak, speak.\n",
            "\n",
            "First Citizen:\n",
            "You are all resolved rather to die than to famish?\n",
            "\n",
            "All:\n",
            "Resolved. resolved.\n",
            "\n",
            "First Citizen:\n",
            "First, you know Caius Marcius is chief enemy to the people.\n",
            "\n"
          ]
        }
      ],
      "source": [
        "# Take a look at the first 250 characters in text\n",
        "print(text[:250])"
      ]
    },
    {
      "cell_type": "code",
      "execution_count": null,
      "metadata": {
        "colab": {
          "base_uri": "https://localhost:8080/"
        },
        "id": "V4ukiealnmdB",
        "outputId": "d8c24030-020a-43e3-ae51-1d46bcaef39e"
      },
      "outputs": [
        {
          "output_type": "stream",
          "name": "stdout",
          "text": [
            "65 unique characters\n"
          ]
        }
      ],
      "source": [
        "# The unique characters in the file\n",
        "vocab = sorted(set(text))\n",
        "print(f'{len(vocab)} unique characters')"
      ]
    },
    {
      "cell_type": "markdown",
      "metadata": {
        "id": "0QwC8PUWnqul"
      },
      "source": [
        "\n",
        "\n",
        "> **OLAH TEKS**\n",
        "\n"
      ]
    },
    {
      "cell_type": "code",
      "execution_count": null,
      "metadata": {
        "colab": {
          "base_uri": "https://localhost:8080/"
        },
        "id": "zX3yuZrrnv99",
        "outputId": "db93c5bd-2b21-42bd-84f3-6de805ededbc"
      },
      "outputs": [
        {
          "output_type": "execute_result",
          "data": {
            "text/plain": [
              "<tf.RaggedTensor [[b'a', b'b', b'c', b'd', b'e', b'f', b'g'], [b'x', b'y', b'z']]>"
            ]
          },
          "metadata": {},
          "execution_count": 65
        }
      ],
      "source": [
        "example_texts = ['abcdefg', 'xyz']\n",
        "chars = tf.strings.unicode_split(example_texts, input_encoding='UTF-8')\n",
        "chars"
      ]
    },
    {
      "cell_type": "code",
      "execution_count": null,
      "metadata": {
        "id": "_XF06-NxoTFA"
      },
      "outputs": [],
      "source": [
        "ids_from_chars = tf.keras.layers.StringLookup(vocabulary = list(vocab), mask_token=None)"
      ]
    },
    {
      "cell_type": "code",
      "execution_count": null,
      "metadata": {
        "colab": {
          "base_uri": "https://localhost:8080/"
        },
        "id": "Fdb3tf4TpFQp",
        "outputId": "76beb1e3-a150-4870-84cb-1c19230d73d4"
      },
      "outputs": [
        {
          "output_type": "execute_result",
          "data": {
            "text/plain": [
              "<tf.RaggedTensor [[b'a', b'b', b'c', b'd', b'e', b'f', b'g'], [b'x', b'y', b'z']]>"
            ]
          },
          "metadata": {},
          "execution_count": 67
        }
      ],
      "source": [
        "ids = ids_from_chars(chars)\n",
        "chars"
      ]
    },
    {
      "cell_type": "code",
      "execution_count": null,
      "metadata": {
        "id": "haRVtYxqpTjC"
      },
      "outputs": [],
      "source": [
        "chars_from_ids = tf.keras.layers.StringLookup(vocabulary = ids_from_chars.get_vocabulary(), invert=True, mask_token=None)"
      ]
    },
    {
      "cell_type": "code",
      "execution_count": null,
      "metadata": {
        "colab": {
          "base_uri": "https://localhost:8080/"
        },
        "id": "Zfl9IgnEpl7S",
        "outputId": "6abf4483-bb56-4fec-f375-c33bb49ef01f"
      },
      "outputs": [
        {
          "output_type": "execute_result",
          "data": {
            "text/plain": [
              "<tf.RaggedTensor [[b'a', b'b', b'c', b'd', b'e', b'f', b'g'], [b'x', b'y', b'z']]>"
            ]
          },
          "metadata": {},
          "execution_count": 69
        }
      ],
      "source": [
        "chars = chars_from_ids(ids)\n",
        "chars"
      ]
    },
    {
      "cell_type": "code",
      "execution_count": null,
      "metadata": {
        "colab": {
          "base_uri": "https://localhost:8080/"
        },
        "id": "gEZNBCfpqIs7",
        "outputId": "01f42215-922a-4a07-c663-1cd7777490e4"
      },
      "outputs": [
        {
          "output_type": "execute_result",
          "data": {
            "text/plain": [
              "array([b'abcdefg', b'xyz'], dtype=object)"
            ]
          },
          "metadata": {},
          "execution_count": 70
        }
      ],
      "source": [
        "tf.strings.reduce_join(chars, axis=-1).numpy()"
      ]
    },
    {
      "cell_type": "code",
      "execution_count": null,
      "metadata": {
        "id": "nAK-kBWzqXSf"
      },
      "outputs": [],
      "source": [
        "def text_from_ids(ids):\n",
        "  return tf.strings.reduce_join(chars_from_ids(ids), axis=-1)"
      ]
    },
    {
      "cell_type": "markdown",
      "metadata": {
        "id": "8D9D9oINqvMt"
      },
      "source": [
        "\n",
        "\n",
        "> **Prediksi**\n",
        "\n"
      ]
    },
    {
      "cell_type": "code",
      "execution_count": null,
      "metadata": {
        "colab": {
          "base_uri": "https://localhost:8080/"
        },
        "id": "w-SZrbMWqzbz",
        "outputId": "7a4d728e-361b-4cb9-c1d9-a9448d8649da"
      },
      "outputs": [
        {
          "output_type": "execute_result",
          "data": {
            "text/plain": [
              "<tf.Tensor: shape=(1115394,), dtype=int64, numpy=array([19, 48, 57, ..., 46,  9,  1])>"
            ]
          },
          "metadata": {},
          "execution_count": 72
        }
      ],
      "source": [
        "all_ids = ids_from_chars(tf.strings.unicode_split(text, 'UTF-8'))\n",
        "all_ids"
      ]
    },
    {
      "cell_type": "code",
      "execution_count": null,
      "metadata": {
        "id": "F2fqcwhEW8Y4"
      },
      "outputs": [],
      "source": [
        "ids_dataset = tf.data.Dataset.from_tensor_slices(all_ids)"
      ]
    },
    {
      "cell_type": "code",
      "execution_count": null,
      "metadata": {
        "colab": {
          "base_uri": "https://localhost:8080/"
        },
        "id": "1aR1_-hiWXHH",
        "outputId": "40868d03-43a8-4b92-b69a-ea100d8f7c79"
      },
      "outputs": [
        {
          "output_type": "stream",
          "name": "stdout",
          "text": [
            "F\n",
            "i\n",
            "r\n",
            "s\n",
            "t\n",
            " \n",
            "C\n",
            "i\n",
            "t\n",
            "i\n"
          ]
        }
      ],
      "source": [
        "for ids in ids_dataset.take(10):\n",
        "  print(chars_from_ids(ids).numpy().decode('utf-8'))"
      ]
    },
    {
      "cell_type": "code",
      "execution_count": null,
      "metadata": {
        "id": "ZwEqIOvgW4c1"
      },
      "outputs": [],
      "source": [
        "seq_length=100"
      ]
    },
    {
      "cell_type": "code",
      "execution_count": null,
      "metadata": {
        "colab": {
          "base_uri": "https://localhost:8080/"
        },
        "id": "j5PvtUWJXMsE",
        "outputId": "89c5ded9-5af4-465e-b00e-fe11a2f05dfe"
      },
      "outputs": [
        {
          "output_type": "stream",
          "name": "stdout",
          "text": [
            "tf.Tensor(\n",
            "[b'F' b'i' b'r' b's' b't' b' ' b'C' b'i' b't' b'i' b'z' b'e' b'n' b':'\n",
            " b'\\n' b'B' b'e' b'f' b'o' b'r' b'e' b' ' b'w' b'e' b' ' b'p' b'r' b'o'\n",
            " b'c' b'e' b'e' b'd' b' ' b'a' b'n' b'y' b' ' b'f' b'u' b'r' b't' b'h'\n",
            " b'e' b'r' b',' b' ' b'h' b'e' b'a' b'r' b' ' b'm' b'e' b' ' b's' b'p'\n",
            " b'e' b'a' b'k' b'.' b'\\n' b'\\n' b'A' b'l' b'l' b':' b'\\n' b'S' b'p' b'e'\n",
            " b'a' b'k' b',' b' ' b's' b'p' b'e' b'a' b'k' b'.' b'\\n' b'\\n' b'F' b'i'\n",
            " b'r' b's' b't' b' ' b'C' b'i' b't' b'i' b'z' b'e' b'n' b':' b'\\n' b'Y'\n",
            " b'o' b'u' b' '], shape=(101,), dtype=string)\n"
          ]
        }
      ],
      "source": [
        "sequences = ids_dataset.batch(seq_length+1, drop_remainder=True)\n",
        "\n",
        "for seq in sequences.take(1):\n",
        "  print(chars_from_ids(seq))"
      ]
    },
    {
      "cell_type": "code",
      "execution_count": null,
      "metadata": {
        "colab": {
          "base_uri": "https://localhost:8080/"
        },
        "id": "PsI0DaAHX0KG",
        "outputId": "88bbe75e-7b00-495c-ea22-641100509b5a"
      },
      "outputs": [
        {
          "output_type": "stream",
          "name": "stdout",
          "text": [
            "[b'F' b'i' b'r' b's' b't' b' ' b'C' b'i' b't' b'i' b'z' b'e' b'n' b':'\n",
            " b'\\n' b'B' b'e' b'f' b'o' b'r' b'e' b' ' b'w' b'e' b' ' b'p' b'r' b'o'\n",
            " b'c' b'e' b'e' b'd' b' ' b'a' b'n' b'y' b' ' b'f' b'u' b'r' b't' b'h'\n",
            " b'e' b'r' b',' b' ' b'h' b'e' b'a' b'r' b' ' b'm' b'e' b' ' b's' b'p'\n",
            " b'e' b'a' b'k' b'.' b'\\n' b'\\n' b'A' b'l' b'l' b':' b'\\n' b'S' b'p' b'e'\n",
            " b'a' b'k' b',' b' ' b's' b'p' b'e' b'a' b'k' b'.' b'\\n' b'\\n' b'F' b'i'\n",
            " b'r' b's' b't' b' ' b'C' b'i' b't' b'i' b'z' b'e' b'n' b':' b'\\n' b'Y'\n",
            " b'o' b'u' b' ']\n",
            "[b'a' b'r' b'e' b' ' b'a' b'l' b'l' b' ' b'r' b'e' b's' b'o' b'l' b'v'\n",
            " b'e' b'd' b' ' b'r' b'a' b't' b'h' b'e' b'r' b' ' b't' b'o' b' ' b'd'\n",
            " b'i' b'e' b' ' b't' b'h' b'a' b'n' b' ' b't' b'o' b' ' b'f' b'a' b'm'\n",
            " b'i' b's' b'h' b'?' b'\\n' b'\\n' b'A' b'l' b'l' b':' b'\\n' b'R' b'e' b's'\n",
            " b'o' b'l' b'v' b'e' b'd' b'.' b' ' b'r' b'e' b's' b'o' b'l' b'v' b'e'\n",
            " b'd' b'.' b'\\n' b'\\n' b'F' b'i' b'r' b's' b't' b' ' b'C' b'i' b't' b'i'\n",
            " b'z' b'e' b'n' b':' b'\\n' b'F' b'i' b'r' b's' b't' b',' b' ' b'y' b'o'\n",
            " b'u' b' ' b'k']\n",
            "[b'n' b'o' b'w' b' ' b'C' b'a' b'i' b'u' b's' b' ' b'M' b'a' b'r' b'c'\n",
            " b'i' b'u' b's' b' ' b'i' b's' b' ' b'c' b'h' b'i' b'e' b'f' b' ' b'e'\n",
            " b'n' b'e' b'm' b'y' b' ' b't' b'o' b' ' b't' b'h' b'e' b' ' b'p' b'e'\n",
            " b'o' b'p' b'l' b'e' b'.' b'\\n' b'\\n' b'A' b'l' b'l' b':' b'\\n' b'W' b'e'\n",
            " b' ' b'k' b'n' b'o' b'w' b\"'\" b't' b',' b' ' b'w' b'e' b' ' b'k' b'n'\n",
            " b'o' b'w' b\"'\" b't' b'.' b'\\n' b'\\n' b'F' b'i' b'r' b's' b't' b' ' b'C'\n",
            " b'i' b't' b'i' b'z' b'e' b'n' b':' b'\\n' b'L' b'e' b't' b' ' b'u' b's'\n",
            " b' ' b'k' b'i']\n",
            "[b'l' b'l' b' ' b'h' b'i' b'm' b',' b' ' b'a' b'n' b'd' b' ' b'w' b'e'\n",
            " b\"'\" b'l' b'l' b' ' b'h' b'a' b'v' b'e' b' ' b'c' b'o' b'r' b'n' b' '\n",
            " b'a' b't' b' ' b'o' b'u' b'r' b' ' b'o' b'w' b'n' b' ' b'p' b'r' b'i'\n",
            " b'c' b'e' b'.' b'\\n' b'I' b's' b\"'\" b't' b' ' b'a' b' ' b'v' b'e' b'r'\n",
            " b'd' b'i' b'c' b't' b'?' b'\\n' b'\\n' b'A' b'l' b'l' b':' b'\\n' b'N' b'o'\n",
            " b' ' b'm' b'o' b'r' b'e' b' ' b't' b'a' b'l' b'k' b'i' b'n' b'g' b' '\n",
            " b'o' b'n' b\"'\" b't' b';' b' ' b'l' b'e' b't' b' ' b'i' b't' b' ' b'b'\n",
            " b'e' b' ' b'd']\n",
            "[b'o' b'n' b'e' b':' b' ' b'a' b'w' b'a' b'y' b',' b' ' b'a' b'w' b'a'\n",
            " b'y' b'!' b'\\n' b'\\n' b'S' b'e' b'c' b'o' b'n' b'd' b' ' b'C' b'i' b't'\n",
            " b'i' b'z' b'e' b'n' b':' b'\\n' b'O' b'n' b'e' b' ' b'w' b'o' b'r' b'd'\n",
            " b',' b' ' b'g' b'o' b'o' b'd' b' ' b'c' b'i' b't' b'i' b'z' b'e' b'n'\n",
            " b's' b'.' b'\\n' b'\\n' b'F' b'i' b'r' b's' b't' b' ' b'C' b'i' b't' b'i'\n",
            " b'z' b'e' b'n' b':' b'\\n' b'W' b'e' b' ' b'a' b'r' b'e' b' ' b'a' b'c'\n",
            " b'c' b'o' b'u' b'n' b't' b'e' b'd' b' ' b'p' b'o' b'o' b'r' b' ' b'c'\n",
            " b'i' b't' b'i']\n"
          ]
        }
      ],
      "source": [
        "for seq in sequences.take(5):\n",
        "  print(chars_from_ids(seq).numpy())"
      ]
    },
    {
      "cell_type": "code",
      "execution_count": null,
      "metadata": {
        "id": "QzPAC2JMYIPr"
      },
      "outputs": [],
      "source": [
        "def split_input_target(sequence):\n",
        "  input_text = sequence[:-1]\n",
        "  target_text = sequence[1:]\n",
        "  return input_text, target_text"
      ]
    },
    {
      "cell_type": "code",
      "execution_count": null,
      "metadata": {
        "colab": {
          "base_uri": "https://localhost:8080/"
        },
        "id": "VYeiGX6obTZa",
        "outputId": "c6029346-6c44-4786-fae5-d9e402362503"
      },
      "outputs": [
        {
          "output_type": "execute_result",
          "data": {
            "text/plain": [
              "(['T', 'e', 'n', 's', 'o', 'r', 'f', 'l', 'o'],\n",
              " ['e', 'n', 's', 'o', 'r', 'f', 'l', 'o', 'w'])"
            ]
          },
          "metadata": {},
          "execution_count": 79
        }
      ],
      "source": [
        "split_input_target(list(\"Tensorflow\"))\n"
      ]
    },
    {
      "cell_type": "code",
      "execution_count": null,
      "metadata": {
        "id": "J8KXN9Blb5v5"
      },
      "outputs": [],
      "source": [
        "dataset = sequences.map(split_input_target)"
      ]
    },
    {
      "cell_type": "code",
      "execution_count": null,
      "metadata": {
        "colab": {
          "base_uri": "https://localhost:8080/"
        },
        "id": "yaGiP-9qbVOD",
        "outputId": "e068f996-affd-4a18-f5ff-ded6f076f5e6"
      },
      "outputs": [
        {
          "output_type": "stream",
          "name": "stdout",
          "text": [
            "Input : b'First Citizen:\\nBefore we proceed any further, hear me speak.\\n\\nAll:\\nSpeak, speak.\\n\\nFirst Citizen:\\nYou'\n",
            "Target: b'irst Citizen:\\nBefore we proceed any further, hear me speak.\\n\\nAll:\\nSpeak, speak.\\n\\nFirst Citizen:\\nYou '\n"
          ]
        }
      ],
      "source": [
        "for input_example, target_example in dataset.take(1):\n",
        "  print(\"Input :\", text_from_ids(input_example).numpy())\n",
        "  print(\"Target:\", text_from_ids(target_example).numpy())"
      ]
    },
    {
      "cell_type": "markdown",
      "metadata": {
        "id": "QlNJX_r3c3f9"
      },
      "source": [
        "\n",
        "\n",
        "> **Membuat Batch Training**\n",
        "\n"
      ]
    },
    {
      "cell_type": "code",
      "execution_count": null,
      "metadata": {
        "colab": {
          "base_uri": "https://localhost:8080/"
        },
        "id": "w8jm9ZTYc8Ea",
        "outputId": "1f92a521-a94c-4728-822b-9209d7894681"
      },
      "outputs": [
        {
          "output_type": "execute_result",
          "data": {
            "text/plain": [
              "<_PrefetchDataset element_spec=(TensorSpec(shape=(64, 100), dtype=tf.int64, name=None), TensorSpec(shape=(64, 100), dtype=tf.int64, name=None))>"
            ]
          },
          "metadata": {},
          "execution_count": 82
        }
      ],
      "source": [
        "# Batch size\n",
        "BATCH_SIZE = 64\n",
        "\n",
        "# Buffer size to shuffle the dataset\n",
        "# (TF data is designed to work with possibly infinite sequences,\n",
        "# so it doesn't attempt to shuffle the entire sequence in memory. Instead,\n",
        "# it maintains a buffer in which it shuffles elements).\n",
        "BUFFER_SIZE = 10000\n",
        "\n",
        "dataset = (\n",
        "    dataset\n",
        "    .shuffle(BUFFER_SIZE)\n",
        "    .batch(BATCH_SIZE, drop_remainder=True)\n",
        "    .prefetch(tf.data.experimental.AUTOTUNE))\n",
        "\n",
        "dataset"
      ]
    },
    {
      "cell_type": "markdown",
      "metadata": {
        "id": "k8MZ51YXdEbH"
      },
      "source": [
        "\n",
        "\n",
        "> **Membuat Model**\n",
        "\n"
      ]
    },
    {
      "cell_type": "code",
      "execution_count": null,
      "metadata": {
        "id": "lZgSIZnydIbm"
      },
      "outputs": [],
      "source": [
        "# Length of the vocabulary in StringLookup Layer\n",
        "vocab_size = len(ids_from_chars.get_vocabulary())\n",
        "\n",
        "# The embedding dimension\n",
        "embedding_dim = 256\n",
        "\n",
        "# Number of RNN units\n",
        "rnn_units = 1024"
      ]
    },
    {
      "cell_type": "code",
      "execution_count": null,
      "metadata": {
        "id": "wubgGVE0dLQP"
      },
      "outputs": [],
      "source": [
        "class MyModel(tf.keras.Model):\n",
        "  def __init__(self, vocab_size, embedding_dim, rnn_units):\n",
        "    super().__init__(self)\n",
        "    self.embedding = tf.keras.layers.Embedding(vocab_size, embedding_dim)\n",
        "    self.gru = tf.keras.layers.GRU(rnn_units,\n",
        "                                   return_sequences=True,\n",
        "                                   return_state=True)\n",
        "    self.dense = tf.keras.layers.Dense(vocab_size)\n",
        "\n",
        "  def call(self, inputs, states=None, return_state=False, training=False):\n",
        "    x = inputs\n",
        "    x = self.embedding(x, training=training)\n",
        "    if states is None:\n",
        "      states = self.gru.get_initial_state(x)\n",
        "    x, states = self.gru(x, initial_state=states, training=training)\n",
        "    x = self.dense(x, training=training)\n",
        "\n",
        "    if return_state:\n",
        "      return x, states\n",
        "    else:\n",
        "      return x"
      ]
    },
    {
      "cell_type": "code",
      "execution_count": null,
      "metadata": {
        "id": "uOLpwhQQdOMM"
      },
      "outputs": [],
      "source": [
        "model = MyModel(vocab_size=vocab_size,embedding_dim=embedding_dim,rnn_units=rnn_units)"
      ]
    },
    {
      "cell_type": "markdown",
      "metadata": {
        "id": "AK33qzxOdUuC"
      },
      "source": [
        "\n",
        "\n",
        "> **Menguji Model**\n",
        "\n"
      ]
    },
    {
      "cell_type": "code",
      "execution_count": null,
      "metadata": {
        "colab": {
          "base_uri": "https://localhost:8080/"
        },
        "id": "_7E3qqv9dZXN",
        "outputId": "f173aea2-01bb-46f3-f9b3-749bd412ce62"
      },
      "outputs": [
        {
          "output_type": "stream",
          "name": "stdout",
          "text": [
            "(64, 100, 66) # (batch_size, sequence_length, vocab_size)\n"
          ]
        }
      ],
      "source": [
        "for input_example_batch, target_example_batch in dataset.take(1):\n",
        "    example_batch_predictions = model(input_example_batch)\n",
        "    print(example_batch_predictions.shape, \"# (batch_size, sequence_length, vocab_size)\")"
      ]
    },
    {
      "cell_type": "code",
      "execution_count": null,
      "metadata": {
        "colab": {
          "base_uri": "https://localhost:8080/"
        },
        "id": "TS1_Y4tlddYL",
        "outputId": "65c7cc16-69f2-4da2-e07e-0223f62b6231"
      },
      "outputs": [
        {
          "output_type": "stream",
          "name": "stdout",
          "text": [
            "Model: \"my_model\"\n",
            "_________________________________________________________________\n",
            " Layer (type)                Output Shape              Param #   \n",
            "=================================================================\n",
            " embedding_4 (Embedding)     multiple                  16896     \n",
            "                                                                 \n",
            " gru (GRU)                   multiple                  3938304   \n",
            "                                                                 \n",
            " dense_8 (Dense)             multiple                  67650     \n",
            "                                                                 \n",
            "=================================================================\n",
            "Total params: 4022850 (15.35 MB)\n",
            "Trainable params: 4022850 (15.35 MB)\n",
            "Non-trainable params: 0 (0.00 Byte)\n",
            "_________________________________________________________________\n"
          ]
        }
      ],
      "source": [
        "model.summary()"
      ]
    },
    {
      "cell_type": "code",
      "execution_count": null,
      "metadata": {
        "id": "EuXVEYLBdgVg"
      },
      "outputs": [],
      "source": [
        "sampled_indices = tf.random.categorical(example_batch_predictions[0], num_samples=1)\n",
        "sampled_indices = tf.squeeze(sampled_indices, axis=-1).numpy()"
      ]
    },
    {
      "cell_type": "code",
      "execution_count": null,
      "metadata": {
        "colab": {
          "base_uri": "https://localhost:8080/"
        },
        "id": "ySfdoRkQdqUI",
        "outputId": "8a35e98b-b293-478e-bb22-1904cd373a04"
      },
      "outputs": [
        {
          "output_type": "execute_result",
          "data": {
            "text/plain": [
              "array([57,  6, 62, 36, 57, 42, 65,  6, 14, 32, 42, 30, 55, 30,  0, 36, 30,\n",
              "       25, 59, 12, 24, 62, 43, 22, 31, 43, 40, 14, 57, 21, 42, 46, 62, 42,\n",
              "        1, 51, 40, 41, 57, 64, 14, 14,  2, 35, 12, 36, 16, 23, 40, 61, 14,\n",
              "       38, 43, 33, 19, 57, 45, 28, 28,  6, 63, 52, 24, 59,  3, 13,  0, 17,\n",
              "       50, 64, 15, 49, 46, 14, 25, 23, 50, 24,  4, 33, 20, 45, 42, 43,  5,\n",
              "       17, 28, 14, 26, 36, 56, 41, 50, 58, 38, 46, 53, 36,  2, 10])"
            ]
          },
          "metadata": {},
          "execution_count": 89
        }
      ],
      "source": [
        "sampled_indices"
      ]
    },
    {
      "cell_type": "code",
      "execution_count": null,
      "metadata": {
        "colab": {
          "base_uri": "https://localhost:8080/"
        },
        "id": "Q53IgLo9dtIE",
        "outputId": "82f02af6-462e-4107-dba2-901e5a4426fe"
      },
      "outputs": [
        {
          "output_type": "stream",
          "name": "stdout",
          "text": [
            "Input:\n",
            " b'ur action.\\n\\nMARCIUS:\\nThose are they\\nThat most are willing. If any such be here--\\nAs it were sin to d'\n",
            "\n",
            "Next Char Predictions:\n",
            " b\"r'wWrcz'AScQpQ[UNK]WQLt;KwdIRdaArHcgwc\\nlabryAA V;WCJavAYdTFrfOO'xmKt!?[UNK]DkyBjgALJkK$TGfcd&DOAMWqbksYgnW 3\"\n"
          ]
        }
      ],
      "source": [
        "print(\"Input:\\n\", text_from_ids(input_example_batch[0]).numpy())\n",
        "print()\n",
        "print(\"Next Char Predictions:\\n\", text_from_ids(sampled_indices).numpy())"
      ]
    },
    {
      "cell_type": "markdown",
      "metadata": {
        "id": "5JT6WWhOd485"
      },
      "source": [
        "\n",
        "\n",
        "> **Train Model**\n",
        "\n"
      ]
    },
    {
      "cell_type": "code",
      "execution_count": null,
      "metadata": {
        "id": "Sw4MjT6hd8Z2"
      },
      "outputs": [],
      "source": [
        "loss = tf.losses.SparseCategoricalCrossentropy(from_logits=True)"
      ]
    },
    {
      "cell_type": "code",
      "execution_count": null,
      "metadata": {
        "colab": {
          "base_uri": "https://localhost:8080/"
        },
        "id": "mtmmHhRfeBMs",
        "outputId": "8bab556a-91dd-4ae2-961e-dd19e4a6546a"
      },
      "outputs": [
        {
          "output_type": "stream",
          "name": "stdout",
          "text": [
            "Prediction shape:  (64, 100, 66)  # (batch_size, sequence_length, vocab_size)\n",
            "Mean loss:         tf.Tensor(4.190469, shape=(), dtype=float32)\n"
          ]
        }
      ],
      "source": [
        "example_batch_mean_loss = loss(target_example_batch, example_batch_predictions)\n",
        "print(\"Prediction shape: \", example_batch_predictions.shape, \" # (batch_size, sequence_length, vocab_size)\")\n",
        "print(\"Mean loss:        \", example_batch_mean_loss)"
      ]
    },
    {
      "cell_type": "code",
      "execution_count": null,
      "metadata": {
        "colab": {
          "base_uri": "https://localhost:8080/"
        },
        "id": "PQoClYxQeGC3",
        "outputId": "9f5744dc-62bc-4b39-a6a0-fc0bb130082a"
      },
      "outputs": [
        {
          "output_type": "execute_result",
          "data": {
            "text/plain": [
              "66.05375"
            ]
          },
          "metadata": {},
          "execution_count": 93
        }
      ],
      "source": [
        "tf.exp(example_batch_mean_loss).numpy()"
      ]
    },
    {
      "cell_type": "code",
      "execution_count": null,
      "metadata": {
        "id": "MpWe7LQHeHlV"
      },
      "outputs": [],
      "source": [
        "model.compile(optimizer='adam',loss=loss)"
      ]
    },
    {
      "cell_type": "code",
      "execution_count": null,
      "metadata": {
        "id": "95PE2bCseM-q"
      },
      "outputs": [],
      "source": [
        "#Konfigurasi Checkpoints\n",
        "# Directory where the checkpoints will be saved\n",
        "checkpoint_dir = './training_checkpoints'\n",
        "# Name of the checkpoint files\n",
        "checkpoint_prefix = os.path.join(checkpoint_dir, \"ckpt_{epoch}\")\n",
        "\n",
        "checkpoint_callback = tf.keras.callbacks.ModelCheckpoint(filepath=checkpoint_prefix,save_weights_only=True)"
      ]
    },
    {
      "cell_type": "code",
      "execution_count": null,
      "metadata": {
        "colab": {
          "base_uri": "https://localhost:8080/"
        },
        "id": "MeMINDPseYz5",
        "outputId": "6f65ed3b-f280-4228-860e-898ce4ea21c7"
      },
      "outputs": [
        {
          "output_type": "stream",
          "name": "stdout",
          "text": [
            "Epoch 1/10\n",
            "172/172 [==============================] - 15s 58ms/step - loss: 2.7159\n",
            "Epoch 2/10\n",
            "172/172 [==============================] - 13s 59ms/step - loss: 1.9901\n",
            "Epoch 3/10\n",
            "172/172 [==============================] - 11s 56ms/step - loss: 1.7171\n",
            "Epoch 4/10\n",
            "172/172 [==============================] - 11s 56ms/step - loss: 1.5563\n",
            "Epoch 5/10\n",
            "172/172 [==============================] - 12s 56ms/step - loss: 1.4571\n",
            "Epoch 6/10\n",
            "172/172 [==============================] - 11s 56ms/step - loss: 1.3894\n",
            "Epoch 7/10\n",
            "172/172 [==============================] - 11s 55ms/step - loss: 1.3360\n",
            "Epoch 8/10\n",
            "172/172 [==============================] - 12s 57ms/step - loss: 1.2913\n",
            "Epoch 9/10\n",
            "172/172 [==============================] - 11s 57ms/step - loss: 1.2503\n",
            "Epoch 10/10\n",
            "172/172 [==============================] - 12s 56ms/step - loss: 1.2106\n"
          ]
        }
      ],
      "source": [
        "#Melakukan Proses training\n",
        "EPOCHS = 10\n",
        "history = model.fit(dataset, epochs=EPOCHS, callbacks=[checkpoint_callback])"
      ]
    },
    {
      "cell_type": "markdown",
      "source": [
        "\n",
        "\n",
        "> **Membuat Prediksi Satu Langkah**\n",
        "\n"
      ],
      "metadata": {
        "id": "PBFdN4Ekb3st"
      }
    },
    {
      "cell_type": "code",
      "source": [
        "class OneStep(tf.keras.Model):\n",
        "  def __init__(self, model, chars_from_ids, ids_from_chars, temperature=1.0):\n",
        "    super().__init__()\n",
        "    self.temperature = temperature\n",
        "    self.model = model\n",
        "    self.chars_from_ids = chars_from_ids\n",
        "    self.ids_from_chars = ids_from_chars\n",
        "\n",
        "    # Create a mask to prevent \"[UNK]\" from being generated.\n",
        "    skip_ids = self.ids_from_chars(['[UNK]'])[:, None]\n",
        "    sparse_mask = tf.SparseTensor(\n",
        "        # Put a -inf at each bad index.\n",
        "        values=[-float('inf')]*len(skip_ids),\n",
        "        indices=skip_ids,\n",
        "        # Match the shape to the vocabulary\n",
        "        dense_shape=[len(ids_from_chars.get_vocabulary())])\n",
        "    self.prediction_mask = tf.sparse.to_dense(sparse_mask)\n",
        "\n",
        "  @tf.function\n",
        "  def generate_one_step(self, inputs, states=None):\n",
        "    # Convert strings to token IDs.\n",
        "    input_chars = tf.strings.unicode_split(inputs, 'UTF-8')\n",
        "    input_ids = self.ids_from_chars(input_chars).to_tensor()\n",
        "\n",
        "    # Run the model.\n",
        "    # predicted_logits.shape is [batch, char, next_char_logits]\n",
        "    predicted_logits, states = self.model(inputs=input_ids, states=states,\n",
        "                                          return_state=True)\n",
        "    # Only use the last prediction.\n",
        "    predicted_logits = predicted_logits[:, -1, :]\n",
        "    predicted_logits = predicted_logits/self.temperature\n",
        "    # Apply the prediction mask: prevent \"[UNK]\" from being generated.\n",
        "    predicted_logits = predicted_logits + self.prediction_mask\n",
        "\n",
        "    # Sample the output logits to generate token IDs.\n",
        "    predicted_ids = tf.random.categorical(predicted_logits, num_samples=1)\n",
        "    predicted_ids = tf.squeeze(predicted_ids, axis=-1)\n",
        "\n",
        "    # Convert from token ids to characters\n",
        "    predicted_chars = self.chars_from_ids(predicted_ids)\n",
        "\n",
        "    # Return the characters and model state.\n",
        "    return predicted_chars, states"
      ],
      "metadata": {
        "id": "0qYZd3urbKub"
      },
      "execution_count": null,
      "outputs": []
    },
    {
      "cell_type": "code",
      "source": [
        "one_step_model = OneStep(model, chars_from_ids, ids_from_chars)"
      ],
      "metadata": {
        "id": "U7MpJ8fdcibC"
      },
      "execution_count": null,
      "outputs": []
    },
    {
      "cell_type": "code",
      "source": [
        "start = time.time()\n",
        "states = None\n",
        "next_char = tf.constant(['ROMEO:'])\n",
        "result = [next_char]\n",
        "\n",
        "for n in range(1000):\n",
        "  next_char, states = one_step_model.generate_one_step(next_char, states=states)\n",
        "  result.append(next_char)\n",
        "\n",
        "result = tf.strings.join(result)\n",
        "end = time.time()\n",
        "print(result[0].numpy().decode('utf-8'), '\\n\\n' + '_'*80)\n",
        "print('\\nRun time:', end - start)"
      ],
      "metadata": {
        "colab": {
          "base_uri": "https://localhost:8080/"
        },
        "id": "uYdWFfT1cqtN",
        "outputId": "4e43bc8b-03f3-4fa4-9bbc-0972f55f28a1"
      },
      "execution_count": null,
      "outputs": [
        {
          "output_type": "stream",
          "name": "stdout",
          "text": [
            "ROMEO:\n",
            "Wrath mine hand that sets thy prison.\n",
            "\n",
            "DUKE VINCENTIO:\n",
            "O thus firmly shalt to, Sant thou that paisonous Lord Clarence; Thou dirst be\n",
            "warrant, by the more that made the boing for\n",
            "traitor to what you have sale tog,\n",
            "Which, we'll allow our father: but,\n",
            "Which lateful quarrel sons, friznds the way\n",
            "To sit my thought.\n",
            "The totors, may ye come, though straight\n",
            "The warrant, fair Lely spent.\n",
            "\n",
            "ROMEO:\n",
            "Can you spend my lady slipt and grace.\n",
            "Nor Englord, all embraceing; But thou canst young Richmond,\n",
            "The lecturess of shoets boy; therefore stip kisses;\n",
            "By night nor news. Is it we shall risten and close.\n",
            "Who executed I have relaced\n",
            "me.\n",
            "\n",
            "MENENIUS:\n",
            "Ye' pardon it!\n",
            "\n",
            "HENRY BOLINGBROKE:\n",
            "Faith, let me do not? but it now till she be betray.\n",
            "Bay me, sir. Green King 'Thanks.\n",
            "\n",
            "DUKE VINCENTIO:\n",
            "And see you had you speak three, disback of my husband, the goldew--key of our:\n",
            "The child, well hably our light-indinney of my fill.\n",
            "\n",
            "with more rest,\n",
            "Scandally, and good expedience?\n",
            "I am but old enoughs for the good lord,\n",
            "Th \n",
            "\n",
            "________________________________________________________________________________\n",
            "\n",
            "Run time: 3.295846462249756\n"
          ]
        }
      ]
    },
    {
      "cell_type": "code",
      "source": [
        "start = time.time()\n",
        "states = None\n",
        "next_char = tf.constant(['ROMEO:', 'ROMEO:', 'ROMEO:', 'ROMEO:', 'ROMEO:'])\n",
        "result = [next_char]\n",
        "\n",
        "for n in range(1000):\n",
        "  next_char, states = one_step_model.generate_one_step(next_char, states=states)\n",
        "  result.append(next_char)\n",
        "\n",
        "result = tf.strings.join(result)\n",
        "end = time.time()\n",
        "print(result, '\\n\\n' + '_'*80)\n",
        "print('\\nRun time:', end - start)"
      ],
      "metadata": {
        "colab": {
          "base_uri": "https://localhost:8080/"
        },
        "id": "VwtJN7Ioc4_R",
        "outputId": "9a05e2db-738d-4d4f-e86e-0c6f9f2c416b"
      },
      "execution_count": null,
      "outputs": [
        {
          "output_type": "stream",
          "name": "stdout",
          "text": [
            "tf.Tensor(\n",
            "[b\"ROMEO:\\nShe with your stell,--good to malican on my hearth,\\nThe bubied of thee, or that here I know aid\\nBrother: for I hear made pray my mind power:\\n'First, Warwick, and many glassless gangerous.\\n\\nROMEO:\\nIt not let me sep' all:\\nThough for Grumilise should help terrs of his finisher\\nThat mathers, in the steed all best from me.\\nWhat a share-bear her, back to eatten me:\\nNow now; therefore, thereby the litterst childness twice\\nSome sharp writ, in the uttion for so smoiled foot\\nIf good old gallayation as you show for me\\nwhat the present in the lights, who common it ere lies\\nAnd once they feel;\\nFor tell me, their words opening, whereof the land there?\\n\\nDOKES:\\nNay, but, as good friends: if Nayures:\\nHow love his father and a stark\\nand tongue the like noble Brother Hathard hath\\nA mater What all the people\\nOf the midation of his marquies,\\nThat liberty straight through the feal'st gramits living\\nUstoe where still down through: set\\nthat ask'd up: whither be gentlemen,\\nIf she did old where they stand carr\"\n",
            " b\"ROMEO:\\nNo more: you have believed, you by the streets and\\nTravolious and preferbline Hastings, and\\nMore ran Old service.\\n\\nBoya:\\nHeavens and hangry till she will what they fear\\nThen by but his deceives in the sextencent bears;\\nFetch you allies; on woe, if\\nI charge enough.\\nSemmed Happition, look once good nugge.\\n\\nKATHARINA:\\nFether noble lawful sisting,\\nWhat is many meaning would not be spilities\\nat I must coffer. When near:\\nMake means, make the queen eyes: we'll march one all\\nso taken. And so, get leiture she consent.\\n\\nHERMIONE:\\nBe you where no noble most but a while\\nYou have; I mean a todice of your soul\\nIs proudest hate doubt; yet it is must disforr'd,\\nI desire you shrew thy ill farouses: who please us,\\nThe creatures appear in books,\\nWhen he discreditation or bietest,\\nThat are my nickliness safe; Franding Morthumbers, cats the virtious in\\nthe slowers, murderer, that the bason be takent\\nTo Henry from Aumied behalfy, we'll half acquainted:\\nTo revere for Rome a banish'd which be sen in our trea\"\n",
            " b\"ROMEO:\\nBiddem of alseabors, if I was not-light fish,\\nCheerly, so, 'tis thence: where hath thy monster beauning.\\n\\nBRUTUS:\\nLay how, I willingly.\\n\\nVALURIE:\\nComan you shall bear to jetter: if not your sorrow mercy\\nUpon the time of England.\\n\\nMENENIUS:\\nHow now! a general hutable turn,\\nOrabort I hear me but a padlit on,\\nAnd proceed innocent and his lewd shoon:\\npoor words for mercy will I hear many priest.\\n\\nHENRY BOLINGBROKE:\\nWhat must hear not? if you consent your worship malicior, protected!\\nLike an eut lord, whence do safetern, and there are striked\\nThe surmerts of what may bethink,\\nBut, sirrah, good sweet sounds, the woman's head\\nAnd myself intend to spoke for warrant;\\nThe next of these the prenciless penith down\\nMay's maintents performed at thy head,\\nMore ourly kind and slain in prison,\\nI' thy cheek to Bolingbark winto this hand.\\n\\nANTONIO:\\nNo, by you, lady! let's charge.\\n\\nCAPULET:\\nWell, go the notice; though your mother speaks!\\nMy lords, the oakh paus in dishalous,\\nYet I'll not caztain like abp\"\n",
            " b\"ROMEO:\\nYou are they dight; be cheeked so many mine eye\\nWill brain which gold unfence behorded to hear him.\\nI pretty law these acquaint some slowery.\\n\\nVORGARD:\\nThou'rt now great angling?' ballets comes our cooks.\\nO Katerwick,\\nNorry Citizen: awake!\\n\\nBENVOLIO:\\nWithin him that? I advise\\nYour brother new-poor ponity, I see thee better\\nTill the herd obsters baring be\\n\\nDUCHESS OF YORK:\\nSpeak from sometimes, I, make it to her.\\n\\nPage:\\nGo had, your shents, behter to think of ghils: 'tis before,\\nAs will strike sid; for take the whole obbities?\\nO, a plebret at a battle, and his great sick\\nHeaven wit such shame; fly for Edward, and\\n'tisbeded, pray you, Too much saint.\\n\\nDUKE VINCENTIO:\\nHe has minedess, pronounce of your weapician\\nAs e'er than heir of Marchalker, we'll short thee;\\nLet me deserves a few received him:--\\n\\nSecond Gentleman:\\nIt is dogrier. Servant, and not come, to:\\nWhere blood of common sun it tramest there.\\n\\nPrivon:\\nSir, you have dare, peace so may you speak in the treacher?\\n\\nKING HENRY VI:\\nW\"\n",
            " b\"ROMEO:\\nWhy, boy, Welf with fon my vilour,\\nBeing brought your gracious princles intends,\\nFrom you; and by his puilifide!\\nWhere waste not? or that kills not the dopberien song heaven\\nUpon their sons-wearise years of liberis;\\nO, never made lost charge: I am, not so:\\nIf hour yield your majesty's throut, 'tis time.\\n\\nABHORSON:\\nDispatch!' and make your brother of mark man: it were a fool\\nTo my rights provite of thee that speaks oar rear\\nHath prevented the dukedom of the volume, she had\\nhave reveneed her with over-whence\\nTo lich unsesterand's pause.\\n\\nJULIET:\\nThat Romeo bleed any man.\\n\\nFirst Murderer:\\nToo flow despair!\\n\\nPORDILEND:\\nThere.\\n\\nDUKE VINCENTIO:\\nVerily, nor farewell.\\n\\nDERBAST:\\nMo something me no beaureed heard him then 't:\\nThough go, some quiet being off.\\n\\nMARCIUS:\\nThe next he'er briefly as if\\nI have it, of Buckinghan on my knowledge\\ngood friar at the eld.\\n\\nBIONDELLO:\\nWhy it is nay, do not should so, Retan is: I am good\\nit; heaven your mother, stay at their life.\\n\\nSecond Deeper:\\nMy lord,\\nMer\"], shape=(5,), dtype=string) \n",
            "\n",
            "________________________________________________________________________________\n",
            "\n",
            "Run time: 3.274075984954834\n"
          ]
        }
      ]
    },
    {
      "cell_type": "markdown",
      "source": [
        "\n",
        "\n",
        "> **Ekspor Model Generator**\n",
        "\n",
        "\n"
      ],
      "metadata": {
        "id": "Zgs8ugl2dAZI"
      }
    },
    {
      "cell_type": "code",
      "source": [
        "tf.saved_model.save(one_step_model, 'one_step')\n",
        "one_step_reloaded = tf.saved_model.load('one_step')"
      ],
      "metadata": {
        "colab": {
          "base_uri": "https://localhost:8080/"
        },
        "id": "ly9A53ZWdHbT",
        "outputId": "44f806d6-5cee-48bf-f776-cc7392ee411c"
      },
      "execution_count": null,
      "outputs": [
        {
          "output_type": "stream",
          "name": "stderr",
          "text": [
            "WARNING:tensorflow:Skipping full serialization of Keras layer <__main__.OneStep object at 0x7911b0b27f70>, because it is not built.\n",
            "WARNING:tensorflow:Model's `__init__()` arguments contain non-serializable objects. Please implement a `get_config()` method in the subclassed Model for proper saving and loading. Defaulting to empty config.\n",
            "WARNING:tensorflow:Model's `__init__()` arguments contain non-serializable objects. Please implement a `get_config()` method in the subclassed Model for proper saving and loading. Defaulting to empty config.\n"
          ]
        }
      ]
    },
    {
      "cell_type": "code",
      "source": [
        "states = None\n",
        "next_char = tf.constant(['ROMEO:'])\n",
        "result = [next_char]\n",
        "\n",
        "for n in range(100):\n",
        "  next_char, states = one_step_reloaded.generate_one_step(next_char, states=states)\n",
        "  result.append(next_char)\n",
        "\n",
        "print(tf.strings.join(result)[0].numpy().decode(\"utf-8\"))"
      ],
      "metadata": {
        "colab": {
          "base_uri": "https://localhost:8080/"
        },
        "id": "_KA1ext7dLFT",
        "outputId": "79a05970-57e6-431b-f2e3-c1ba90d0bc06"
      },
      "execution_count": null,
      "outputs": [
        {
          "output_type": "stream",
          "name": "stdout",
          "text": [
            "ROMEO:\n",
            "Come; your gracious soul:' but little lie, imprison'd person:\n",
            "Unless of blood, that vistague, Henry\n"
          ]
        }
      ]
    },
    {
      "cell_type": "markdown",
      "source": [
        "**TUGAS**"
      ],
      "metadata": {
        "id": "wd_nHo_GeoOD"
      }
    },
    {
      "cell_type": "markdown",
      "source": [
        "Prosedur pelatihan pada praktikum 2 merupakan prosedur sederhana, yang tidak memberi Anda banyak kendali. Model ini menggunakan \"teacher-forcing\" yang mencegah prediksi buruk diumpankan kembali ke model, sehingga model tidak pernah belajar untuk pulih dari kesalahan. Jadi, setelah Anda melihat cara menjalankan model secara manual, selanjutnya Anda akan mengimplementasikan custom loop pelatihan. Hal ini memberikan titik awal jika, misalnya, Anda ingin menerapkan pembelajaran kurikulum untuk membantu menstabilkan keluaran open-loop model. Bagian terpenting dari loop pelatihan khusus adalah fungsi langkah pelatihan. Gunakan tf.GradientTape untuk men track nilai gradient. Anda dapat mempelajari lebih lanjut tentang pendekatan ini dengan membaca eager execution guide.\n",
        "\n",
        "Prosedurnya adalah :\n",
        "\n",
        "1. Jalankan Model dan hitung loss dengan tf.GradientTape.\n",
        "2. Hitung update dan terapkan pada model dengan optimizer"
      ],
      "metadata": {
        "id": "kkC60EwDH_9S"
      }
    },
    {
      "cell_type": "code",
      "source": [
        "class CustomTraining(MyModel):\n",
        " @tf.function\n",
        " def train_step(self, inputs):\n",
        "      inputs, labels = inputs\n",
        "      with tf.GradientTape() as tape:\n",
        "        predictions = self(inputs, training=True)\n",
        "        loss = self.loss(labels, predictions)\n",
        "      grads = tape.gradient(loss, model.trainable_variables)\n",
        "      self.optimizer.apply_gradients(zip(grads, model.trainable_variables))\n",
        "\n",
        "      return {'loss': loss}"
      ],
      "metadata": {
        "id": "aLu4m9Qhtx-P"
      },
      "execution_count": null,
      "outputs": []
    },
    {
      "cell_type": "markdown",
      "source": [
        "Kode diatas menerapkan train_step method sesuai dengan  Keras' train_step conventions. Ini opsional, tetapi memungkinkan Anda mengubah perilaku langkah pelatihan dan tetap menggunakan keras Model.compile and Model.fit methods."
      ],
      "metadata": {
        "id": "EYuFuPViImnp"
      }
    },
    {
      "cell_type": "code",
      "source": [
        "model = CustomTraining(\n",
        "    vocab_size=len(ids_from_chars.get_vocabulary()),\n",
        "    embedding_dim=embedding_dim,\n",
        "    rnn_units=rnn_units)"
      ],
      "metadata": {
        "id": "36g-uePk5leU"
      },
      "execution_count": null,
      "outputs": []
    },
    {
      "cell_type": "code",
      "source": [
        "model.compile(optimizer = tf.keras.optimizers.Adam(),\n",
        "              loss=tf.keras.losses.SparseCategoricalCrossentropy(from_logits=True))"
      ],
      "metadata": {
        "id": "M5TNlS9o5qKH"
      },
      "execution_count": null,
      "outputs": []
    },
    {
      "cell_type": "code",
      "source": [
        "model.fit(dataset, epochs=1)"
      ],
      "metadata": {
        "colab": {
          "base_uri": "https://localhost:8080/"
        },
        "id": "4R48Xr3Q5wEu",
        "outputId": "3824469d-2f8a-4d3f-ce9c-f241ec5b0a8a"
      },
      "execution_count": null,
      "outputs": [
        {
          "output_type": "stream",
          "name": "stdout",
          "text": [
            "172/172 [==============================] - 15s 59ms/step - loss: 1.1823\n"
          ]
        },
        {
          "output_type": "execute_result",
          "data": {
            "text/plain": [
              "<keras.src.callbacks.History at 0x7911b10a5120>"
            ]
          },
          "metadata": {},
          "execution_count": 105
        }
      ]
    },
    {
      "cell_type": "markdown",
      "source": [
        "Atau jika ingin lebih mengetahui dalamnya, kita bisa membuat custom training loop sendiri:"
      ],
      "metadata": {
        "id": "1YG1Rm2KIvb6"
      }
    },
    {
      "cell_type": "code",
      "source": [
        "EPOCHS = 10\n",
        "\n",
        "mean = tf.metrics.Mean()\n",
        "\n",
        "for epoch in range(EPOCHS):\n",
        "    start = time.time()\n",
        "\n",
        "    mean.reset_states()\n",
        "    for (batch_n, (inp, target)) in enumerate(dataset):\n",
        "      logs = model.train_step([inp, target])\n",
        "      mean.update_state(logs['loss'])\n",
        "\n",
        "      if batch_n % 50 == 0:\n",
        "         template = f\"Epoch {epoch+1} Batch {batch_n} Loss {logs['loss']:.4f}\"\n",
        "         print(template)\n",
        "\n",
        " # saving (checkpoint) the model every 5 epochs\n",
        "      if (epoch + 1) % 5 == 0:\n",
        "         model.save_weights(checkpoint_prefix.format(epoch=epoch))\n",
        "\n",
        "    print()\n",
        "    print(f'Epoch {epoch+1} Loss: {mean.result().numpy():.4f}')\n",
        "    print(f'Time taken for 1 epoch {time.time() - start:.2f} sec')\n",
        "    print(\"_\"*80)\n",
        "\n",
        "model.save_weights(checkpoint_prefix.format(epoch=epoch))"
      ],
      "metadata": {
        "colab": {
          "base_uri": "https://localhost:8080/"
        },
        "id": "dsYtKZvA5z9l",
        "outputId": "41fe6db7-c4e7-4faf-9eef-76e59783d236"
      },
      "execution_count": null,
      "outputs": [
        {
          "output_type": "stream",
          "name": "stderr",
          "text": [
            "WARNING:tensorflow:5 out of the last 5 calls to <function _BaseOptimizer._update_step_xla at 0x7911b0fba9e0> triggered tf.function retracing. Tracing is expensive and the excessive number of tracings could be due to (1) creating @tf.function repeatedly in a loop, (2) passing tensors with different shapes, (3) passing Python objects instead of tensors. For (1), please define your @tf.function outside of the loop. For (2), @tf.function has reduce_retracing=True option that can avoid unnecessary retracing. For (3), please refer to https://www.tensorflow.org/guide/function#controlling_retracing and https://www.tensorflow.org/api_docs/python/tf/function for  more details.\n",
            "WARNING:tensorflow:6 out of the last 6 calls to <function _BaseOptimizer._update_step_xla at 0x7911b0fba9e0> triggered tf.function retracing. Tracing is expensive and the excessive number of tracings could be due to (1) creating @tf.function repeatedly in a loop, (2) passing tensors with different shapes, (3) passing Python objects instead of tensors. For (1), please define your @tf.function outside of the loop. For (2), @tf.function has reduce_retracing=True option that can avoid unnecessary retracing. For (3), please refer to https://www.tensorflow.org/guide/function#controlling_retracing and https://www.tensorflow.org/api_docs/python/tf/function for  more details.\n"
          ]
        },
        {
          "output_type": "stream",
          "name": "stdout",
          "text": [
            "Epoch 1 Batch 0 Loss 1.1818\n",
            "Epoch 1 Batch 50 Loss 1.1666\n",
            "Epoch 1 Batch 100 Loss 1.1606\n",
            "Epoch 1 Batch 150 Loss 1.1578\n",
            "\n",
            "Epoch 1 Loss: 1.1642\n",
            "Time taken for 1 epoch 20.47 sec\n",
            "________________________________________________________________________________\n",
            "Epoch 2 Batch 0 Loss 1.1567\n",
            "Epoch 2 Batch 50 Loss 1.1448\n",
            "Epoch 2 Batch 100 Loss 1.1383\n",
            "Epoch 2 Batch 150 Loss 1.1344\n",
            "\n",
            "Epoch 2 Loss: 1.1414\n",
            "Time taken for 1 epoch 12.85 sec\n",
            "________________________________________________________________________________\n",
            "Epoch 3 Batch 0 Loss 1.1332\n",
            "Epoch 3 Batch 50 Loss 1.1229\n",
            "Epoch 3 Batch 100 Loss 1.1160\n",
            "Epoch 3 Batch 150 Loss 1.1113\n",
            "\n",
            "Epoch 3 Loss: 1.1190\n",
            "Time taken for 1 epoch 13.21 sec\n",
            "________________________________________________________________________________\n",
            "Epoch 4 Batch 0 Loss 1.1095\n",
            "Epoch 4 Batch 50 Loss 1.0995\n",
            "Epoch 4 Batch 100 Loss 1.0923\n",
            "Epoch 4 Batch 150 Loss 1.0869\n",
            "\n",
            "Epoch 4 Loss: 1.0952\n",
            "Time taken for 1 epoch 12.51 sec\n",
            "________________________________________________________________________________\n",
            "Epoch 5 Batch 0 Loss 1.0849\n",
            "Epoch 5 Batch 50 Loss 1.0748\n",
            "Epoch 5 Batch 100 Loss 1.0673\n",
            "Epoch 5 Batch 150 Loss 1.0617\n",
            "\n",
            "Epoch 5 Loss: 1.0703\n",
            "Time taken for 1 epoch 81.91 sec\n",
            "________________________________________________________________________________\n",
            "Epoch 6 Batch 0 Loss 1.0596\n",
            "Epoch 6 Batch 50 Loss 1.0497\n",
            "Epoch 6 Batch 100 Loss 1.0419\n",
            "Epoch 6 Batch 150 Loss 1.0358\n",
            "\n",
            "Epoch 6 Loss: 1.0449\n",
            "Time taken for 1 epoch 12.88 sec\n",
            "________________________________________________________________________________\n",
            "Epoch 7 Batch 0 Loss 1.0337\n",
            "Epoch 7 Batch 50 Loss 1.0240\n",
            "Epoch 7 Batch 100 Loss 1.0161\n",
            "Epoch 7 Batch 150 Loss 1.0098\n",
            "\n",
            "Epoch 7 Loss: 1.0190\n",
            "Time taken for 1 epoch 12.75 sec\n",
            "________________________________________________________________________________\n",
            "Epoch 8 Batch 0 Loss 1.0073\n",
            "Epoch 8 Batch 50 Loss 0.9976\n",
            "Epoch 8 Batch 100 Loss 0.9896\n",
            "Epoch 8 Batch 150 Loss 0.9833\n",
            "\n",
            "Epoch 8 Loss: 0.9926\n",
            "Time taken for 1 epoch 12.69 sec\n",
            "________________________________________________________________________________\n",
            "Epoch 9 Batch 0 Loss 0.9808\n",
            "Epoch 9 Batch 50 Loss 0.9714\n",
            "Epoch 9 Batch 100 Loss 0.9635\n",
            "Epoch 9 Batch 150 Loss 0.9571\n",
            "\n",
            "Epoch 9 Loss: 0.9664\n",
            "Time taken for 1 epoch 12.47 sec\n",
            "________________________________________________________________________________\n",
            "Epoch 10 Batch 0 Loss 0.9545\n",
            "Epoch 10 Batch 50 Loss 0.9453\n",
            "Epoch 10 Batch 100 Loss 0.9376\n",
            "Epoch 10 Batch 150 Loss 0.9312\n",
            "\n",
            "Epoch 10 Loss: 0.9404\n",
            "Time taken for 1 epoch 81.91 sec\n",
            "________________________________________________________________________________\n"
          ]
        }
      ]
    }
  ],
  "metadata": {
    "colab": {
      "provenance": [],
      "gpuType": "T4",
      "authorship_tag": "ABX9TyNN7zZ+T/zIRmqHlJElCDiR",
      "include_colab_link": true
    },
    "kernelspec": {
      "display_name": "Python 3",
      "name": "python3"
    },
    "language_info": {
      "name": "python"
    },
    "accelerator": "GPU"
  },
  "nbformat": 4,
  "nbformat_minor": 0
}